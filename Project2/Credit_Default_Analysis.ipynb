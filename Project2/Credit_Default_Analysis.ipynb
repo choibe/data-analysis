{
 "cells": [
  {
   "cell_type": "code",
   "execution_count": null,
   "id": "9a7b9f6e-3c3a-43f8-9874-e6a311a13a57",
   "metadata": {},
   "outputs": [],
   "source": [
    "import pandas as pd\n",
    "import matplotlib.pyplot as plt\n",
    "import seaborn as sns\n",
    "\n",
    "from sklearn.ensemble import RandomForestClassifier\n",
    "from sklearn.model_selection import train_test_split\n",
    "\n",
    "from sklearn.metrics import accuracy_score\n",
    "from sklearn.metrics import confusion_matrix, ConfusionMatrixDisplay, classification_report\n",
    "\n",
    "from sklearn.preprocessing import LabelEncoder"
   ]
  },
  {
   "cell_type": "markdown",
   "id": "e08e165b-9b63-4c02-a547-c7bd0b601df9",
   "metadata": {},
   "source": [
    "## Data Description\n",
    "Source: https://www.kaggle.com/datasets/yasserh/loan-default-dataset/discussion/522084\n",
    "<br> **ID**\tclient loan application id\n",
    "<br> **year**\tyear of loan application\n",
    "<br> **loan_limit**\tindicates whether the loan is conforming (cf) or non-conforming (ncf)\n",
    "<br> **Gender**\tgender of the applicant (male, female, joint, sex not available)\n",
    "<br> **approv_in_adv**\tindicates whether the loan was approved in advance (pre, nopre)\n",
    "<br> **loan_type**\ttype of loan (type1, type2, type3)\n",
    "<br> **loan_purpose**\tpurpose of the loan (p1, p2, p3, p4)\n",
    "<br> **Credit_Worthiness**\tcredit worthiness (l1, l2)\n",
    "<br> **open_credit**\tindicates whether the applicant has any open credit accounts (opc, nopc)\n",
    "<br> **business_or_commercial**\tindicates whether the loan is for business/commercial purposes (ob/c - business/commercial, nob/c - personal)\n",
    "<br> **loan_amount**\tamount of money being borrowed\n",
    "<br> **rate_of_interest**\tinterest rate charged on the loan\n",
    "<br> **Interest_rate_spread**\tdifference between the interest rate on the loan and a benchmark interest rate\n",
    "<br> **Upfront_charges**\tinitial charges associated with securing the loan\n",
    "<br> **term**\tduration of the loan in months\n",
    "<br> **Neg_ammortization**\tindicates whether the loan allows for negative ammortization (neg_amm, not_neg)\n",
    "<br> **interest_only**\tindicates whether the loan has an interest-only payment option (int_only, not_int)\n",
    "<br> **lump_sum_payment**\tindicates if a lump sum payment is required at the end of the loan term (lpsm, not_lpsm)\n",
    "<br> **property_value**\tvalue of the property being financed\n",
    "<br> **construction_type**\ttype of construction (sb - site built, mh - manufactured home)\n",
    "<br> **occupancy_type**\toccupancy type (pr - primary residence, sr- secondary residence, ir - investment property)\n",
    "<br> **Secured_by**\tspecifies the type of collateral securing the loan (home, land)\n",
    "<br> **total_units**\tnumber of units in the property being financed (1U, 2U, 3U, 4U)\n",
    "<br> **income**\tapplicant's annual income\n",
    "<br> **credit_type**\tapplicant's type of credit (CIB - credit information bureau , CRIF - CIRF credit information bureau, EXP - experian , EQUI - equifax)\n",
    "<br> **Credit_Score**\tapplicant's credit score\n",
    "<br> **co-applicant_credit_type**\tco-applicant's type of credit (CIB - credit information bureau EXP - experian)\n",
    "<br> **age**\tthe age of the applicant.\n",
    "<br> **submission_of_application**\tindicates how the application was submitted (to_inst - to institution, not_inst - not to institution)\n",
    "<br> **LTV**\tloan-to-value ratio, calculated as the loan amount divided by the property value\n",
    "<br> **Region**\tgeographic region where the property is located (North, south, central, North-East)\n",
    "<br> **Security_Type**\ttype of security or collateral backing the loan (direct, indirect)\n",
    "<br> **Status**\tindicates whether the loan has been defaulted (1) or not (0)\n",
    "<br> **dtir1**\tdebt-to-income ratio\n",
    "\n"
   ]
  },
  {
   "cell_type": "markdown",
   "id": "ec57f902-f7c6-4131-a513-0ac220e0c463",
   "metadata": {},
   "source": [
    "## 1) Import Data"
   ]
  },
  {
   "cell_type": "code",
   "execution_count": null,
   "id": "d85518b2-2484-4dce-af7d-7bd5b1c9bb27",
   "metadata": {},
   "outputs": [],
   "source": [
    "df = pd.read_csv(r\"C:\\Users\\boeun\\Downloads\\archive\\Loan_Default.csv\")"
   ]
  },
  {
   "cell_type": "code",
   "execution_count": null,
   "id": "acb21fc6-ff5c-42d3-90aa-c23170693fc3",
   "metadata": {},
   "outputs": [],
   "source": [
    "df.head()"
   ]
  },
  {
   "cell_type": "code",
   "execution_count": null,
   "id": "4e8869f3-d235-458a-97b8-025dba3753e9",
   "metadata": {},
   "outputs": [],
   "source": [
    "ax = sns.countplot(x = 'Status', data=df)\n",
    "ax.bar_label(ax.containers[0])\n",
    "plt.title(\"Default Status Observation\")\n",
    "plt.show()"
   ]
  },
  {
   "cell_type": "code",
   "execution_count": null,
   "id": "91132e2d-d887-4d14-b3bc-b64872edd6b1",
   "metadata": {},
   "outputs": [],
   "source": [
    "df.info()"
   ]
  },
  {
   "cell_type": "code",
   "execution_count": null,
   "id": "0d14f57c-746a-45a6-82cb-c1e8c4d325fa",
   "metadata": {},
   "outputs": [],
   "source": [
    "df.shape"
   ]
  },
  {
   "cell_type": "code",
   "execution_count": null,
   "id": "cdf05bb7-4d1b-41dd-9726-0f3ee442eae2",
   "metadata": {},
   "outputs": [],
   "source": [
    "df.drop_duplicates(subset=['ID'], inplace=True)"
   ]
  },
  {
   "cell_type": "code",
   "execution_count": null,
   "id": "a0bfea70-91b4-4013-ac57-4261c6d32609",
   "metadata": {},
   "outputs": [],
   "source": [
    "df.shape  # There were no duplicate records"
   ]
  },
  {
   "cell_type": "markdown",
   "id": "c4456bdf-61ab-40d4-9d41-863c0ca0b41d",
   "metadata": {},
   "source": [
    "## 2) Preprocess Data"
   ]
  },
  {
   "cell_type": "code",
   "execution_count": null,
   "id": "c4b5c241-7800-44b5-beb0-8efa021b7e50",
   "metadata": {
    "scrolled": true
   },
   "outputs": [],
   "source": [
    "df.describe()"
   ]
  },
  {
   "cell_type": "code",
   "execution_count": null,
   "id": "0ad3c758-5a3f-44c6-afa4-0606b5bd6470",
   "metadata": {},
   "outputs": [],
   "source": [
    "df2 = df.copy()"
   ]
  },
  {
   "cell_type": "code",
   "execution_count": null,
   "id": "50b73522-a67c-4024-97fd-5655f117a8bf",
   "metadata": {},
   "outputs": [],
   "source": [
    "# Encode to numerical values\n",
    "le = LabelEncoder()\n",
    "\n",
    "obj_columns = [col for col in df2.columns if df2[col].dtype == 'object']\n",
    "for col in obj_columns:\n",
    "    df2[col] = le.fit_transform(df2[col])"
   ]
  },
  {
   "cell_type": "code",
   "execution_count": null,
   "id": "2e7bc1e5-6da7-4dbf-a920-92ff9ff5c5a5",
   "metadata": {},
   "outputs": [],
   "source": [
    "df2.info()"
   ]
  },
  {
   "cell_type": "markdown",
   "id": "66e4b096-cd20-4864-9fc7-60f03354c9b1",
   "metadata": {},
   "source": [
    "## 3) Random Forest"
   ]
  },
  {
   "cell_type": "code",
   "execution_count": null,
   "id": "d8915e92-7ada-44ea-8c36-35959daba0ff",
   "metadata": {},
   "outputs": [],
   "source": [
    "df3 = df2.copy()"
   ]
  },
  {
   "cell_type": "code",
   "execution_count": null,
   "id": "044e9332-be46-48d6-ab17-d95b381d475d",
   "metadata": {},
   "outputs": [],
   "source": [
    "X = df3.drop('Status', axis=1) \n",
    "y = df3['Status']"
   ]
  },
  {
   "cell_type": "code",
   "execution_count": null,
   "id": "8a9d7ff0-2d55-417d-8552-69c3f2c97f58",
   "metadata": {},
   "outputs": [],
   "source": [
    "X_train, X_test, y_train, y_test = train_test_split(X, y, test_size=0.3, random_state=42)"
   ]
  },
  {
   "cell_type": "code",
   "execution_count": null,
   "id": "71038ba3-7e5c-4a1d-bf61-f503a3f24f31",
   "metadata": {},
   "outputs": [],
   "source": [
    "clf_rf = RandomForestClassifier(max_depth=2, random_state=0)\n",
    "clf_rf.fit(X_train, y_train)"
   ]
  },
  {
   "cell_type": "code",
   "execution_count": null,
   "id": "6b544e4c-4e79-4d34-9be7-dcfe58feebbb",
   "metadata": {},
   "outputs": [],
   "source": [
    "pred = clf_rf.predict(X_test)\n",
    "print(f'Accuracy Score: {accuracy_score(y_test, pred):.2%}')"
   ]
  },
  {
   "cell_type": "code",
   "execution_count": null,
   "id": "ba5736be-c77f-4b4d-8486-adc5958ddc15",
   "metadata": {},
   "outputs": [],
   "source": [
    "confusion_matrix(y_test, pred)"
   ]
  },
  {
   "cell_type": "code",
   "execution_count": null,
   "id": "9065a8f0-c1dd-4c1b-b924-111d52aa9de9",
   "metadata": {},
   "outputs": [],
   "source": [
    "class_names = ['Did Not Default', 'Defaulted']\n",
    "disp = ConfusionMatrixDisplay.from_estimator(clf_rf, X_test, y_test, display_labels=class_names, cmap=plt.cm.Blues)"
   ]
  },
  {
   "cell_type": "code",
   "execution_count": null,
   "id": "dc241446-d741-4e5a-8b8d-3d006a9a884a",
   "metadata": {},
   "outputs": [],
   "source": []
  },
  {
   "cell_type": "code",
   "execution_count": null,
   "id": "afffc495-e370-4ce4-b999-5c4e6a352885",
   "metadata": {},
   "outputs": [],
   "source": []
  }
 ],
 "metadata": {
  "kernelspec": {
   "display_name": "Python 3 (ipykernel)",
   "language": "python",
   "name": "python3"
  },
  "language_info": {
   "codemirror_mode": {
    "name": "ipython",
    "version": 3
   },
   "file_extension": ".py",
   "mimetype": "text/x-python",
   "name": "python",
   "nbconvert_exporter": "python",
   "pygments_lexer": "ipython3",
   "version": "3.12.7"
  }
 },
 "nbformat": 4,
 "nbformat_minor": 5
}
